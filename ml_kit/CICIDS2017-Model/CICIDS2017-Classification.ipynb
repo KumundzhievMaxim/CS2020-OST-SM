{
 "cells": [
  {
   "cell_type": "code",
   "execution_count": 17,
   "metadata": {},
   "outputs": [],
   "source": [
    "#Importing required libraries\n",
    "\n",
    "import pandas as pd\n",
    "import numpy as np\n",
    "import json\n",
    "from sklearn.preprocessing import LabelEncoder\n",
    "from sklearn.model_selection import train_test_split\n",
    "import seaborn as sns\n",
    "from sklearn.metrics import accuracy_score\n",
    "from sklearn.metrics import confusion_matrix\n",
    "from sklearn.ensemble import RandomForestClassifier\n",
    "from sklearn.linear_model import LogisticRegression\n",
    "from sklearn.tree import DecisionTreeClassifier"
   ]
  },
  {
   "cell_type": "code",
   "execution_count": 2,
   "metadata": {},
   "outputs": [],
   "source": [
    "# Loading dataset  \n",
    "data1=pd.read_json('2_training_set.json', lines=True)\n",
    "lb=pd.read_csv('2_training_anno_top.json')\n",
    "LB=pd.read_csv('labels.csv')"
   ]
  },
  {
   "cell_type": "code",
   "execution_count": 3,
   "metadata": {},
   "outputs": [
    {
     "data": {
      "text/plain": [
       "ack_psh_rst_syn_fin_cnt             0\n",
       "bytes_in                            0\n",
       "bytes_out                           0\n",
       "da                                  0\n",
       "dns_answer_cnt                 353261\n",
       "dns_answer_ip                  362503\n",
       "dns_answer_ttl                 362503\n",
       "dns_query_class                347892\n",
       "dns_query_cnt                  347892\n",
       "dns_query_name                 347892\n",
       "dns_query_name_len             347892\n",
       "dns_query_type                 347892\n",
       "dst_port                            0\n",
       "hdr_bin_40                          0\n",
       "hdr_ccnt                            0\n",
       "hdr_distinct                        0\n",
       "hdr_mean                            0\n",
       "http_code                      365819\n",
       "http_content_len               365819\n",
       "http_content_type              365819\n",
       "http_host                      400777\n",
       "http_method                    400777\n",
       "http_uri                       400777\n",
       "id                                  0\n",
       "intervals_ccnt                      0\n",
       "num_pkts_in                         0\n",
       "num_pkts_out                        0\n",
       "pld_bin_inf                         0\n",
       "pld_ccnt                            0\n",
       "pld_distinct                        0\n",
       "                                ...  \n",
       "pld_median                          0\n",
       "pr                                  0\n",
       "rev_ack_psh_rst_syn_fin_cnt         0\n",
       "rev_hdr_bin_40                      0\n",
       "rev_hdr_ccnt                        0\n",
       "rev_hdr_distinct                    0\n",
       "rev_intervals_ccnt                  0\n",
       "rev_pld_bin_128                     0\n",
       "rev_pld_ccnt                        0\n",
       "rev_pld_distinct                    0\n",
       "rev_pld_max                         0\n",
       "rev_pld_mean                        0\n",
       "rev_pld_var                         0\n",
       "sa                                  0\n",
       "src_port                            0\n",
       "time_length                         0\n",
       "tls_cnt                        366280\n",
       "tls_cs                         366280\n",
       "tls_cs_cnt                     366280\n",
       "tls_ext_cnt                    366280\n",
       "tls_ext_types                  366280\n",
       "tls_key_exchange_len           366280\n",
       "tls_len                        366280\n",
       "tls_svr_cnt                    366887\n",
       "tls_svr_cs                     366887\n",
       "tls_svr_cs_cnt                 366887\n",
       "tls_svr_ext_cnt                366887\n",
       "tls_svr_ext_types              366887\n",
       "tls_svr_key_exchange_len       366887\n",
       "tls_svr_len                    366887\n",
       "Length: 62, dtype: int64"
      ]
     },
     "execution_count": 3,
     "metadata": {},
     "output_type": "execute_result"
    }
   ],
   "source": [
    "data1.isna().sum()"
   ]
  },
  {
   "cell_type": "code",
   "execution_count": 4,
   "metadata": {},
   "outputs": [],
   "source": [
    "data=data1.drop(columns=['dns_answer_cnt','dns_answer_ip','dns_answer_ttl','da','sa','dns_query_class','dns_query_cnt','dns_query_name','dns_query_name','dns_query_name_len','dns_query_type','http_code','http_content_len','http_content_type','http_host','http_method','http_uri','tls_cnt','tls_cs','tls_cs_cnt','tls_ext_cnt','tls_ext_types','tls_key_exchange_len','tls_len','tls_svr_cnt','tls_svr_cs','tls_svr_cs_cnt','tls_svr_ext_cnt','tls_svr_ext_types','tls_svr_key_exchange_len','tls_svr_len'], axis=1)\n",
    "initial_data = data"
   ]
  },
  {
   "cell_type": "code",
   "execution_count": 5,
   "metadata": {},
   "outputs": [],
   "source": [
    "obj_df=pd.DataFrame() "
   ]
  },
  {
   "cell_type": "code",
   "execution_count": 6,
   "metadata": {},
   "outputs": [],
   "source": [
    "lb_make = LabelEncoder()"
   ]
  },
  {
   "cell_type": "code",
   "execution_count": 7,
   "metadata": {},
   "outputs": [],
   "source": [
    "initial_data['ack_psh_rst_syn_fin_cnt']=initial_data['ack_psh_rst_syn_fin_cnt'].astype(str)\n",
    "initial_data['hdr_ccnt']=initial_data['hdr_ccnt'].astype(str)\n",
    "initial_data['intervals_ccnt']=initial_data['intervals_ccnt'].astype(str)\n",
    "initial_data['pld_ccnt']=initial_data['pld_ccnt'].astype(str)\n",
    "initial_data['rev_ack_psh_rst_syn_fin_cnt']=initial_data['rev_ack_psh_rst_syn_fin_cnt'].astype(str)\n",
    "initial_data['rev_hdr_ccnt']=initial_data['rev_hdr_ccnt'].astype(str)\n",
    "initial_data['rev_intervals_ccnt']=initial_data['rev_intervals_ccnt'].astype(str)\n",
    "initial_data['rev_pld_ccnt']=initial_data['rev_pld_ccnt'].astype(str)"
   ]
  },
  {
   "cell_type": "code",
   "execution_count": 8,
   "metadata": {},
   "outputs": [],
   "source": [
    "obj_df['ack_psh_rst_syn_fin_cnt'] = lb_make.fit_transform(initial_data['ack_psh_rst_syn_fin_cnt'])\n",
    "obj_df['bytes_in'] = initial_data['bytes_in']\n",
    "obj_df['bytes_out'] = initial_data['bytes_out']\n",
    "obj_df['dst_port'] = initial_data['dst_port']\n",
    "obj_df['hdr_bin_40'] = initial_data['hdr_bin_40']\n",
    "obj_df['hdr_ccnt'] = lb_make.fit_transform(initial_data['hdr_ccnt'])\n",
    "obj_df['hdr_distinct'] = initial_data['hdr_distinct']\n",
    "obj_df['hdr_mean'] = initial_data['hdr_mean']\n",
    "obj_df['id'] = initial_data['id']\n",
    "obj_df['intervals_ccnt'] = lb_make.fit_transform(initial_data['intervals_ccnt'])\n",
    "obj_df['num_pkts_in'] = initial_data['num_pkts_in']\n",
    "obj_df['num_pkts_out'] = initial_data['num_pkts_out']\n",
    "obj_df['pld_bin_inf'] = initial_data['pld_bin_inf']\n",
    "obj_df['pld_ccnt'] = lb_make.fit_transform(initial_data['pld_ccnt'])\n",
    "obj_df['pld_distinct'] = initial_data['pld_distinct']\n",
    "obj_df['pld_max'] = initial_data['pld_max']\n",
    "obj_df['pld_mean'] = initial_data['pld_mean']\n",
    "obj_df['pld_median'] = initial_data['pld_median']\n",
    "obj_df['pr'] = initial_data['pr']\n",
    "obj_df['rev_ack_psh_rst_syn_fin_cnt'] = lb_make.fit_transform(initial_data['rev_ack_psh_rst_syn_fin_cnt'])\n",
    "obj_df['rev_hdr_bin_40'] = initial_data['rev_hdr_bin_40']\n",
    "obj_df['rev_hdr_ccnt'] = lb_make.fit_transform(initial_data['rev_hdr_ccnt'])\n",
    "obj_df['rev_hdr_distinct'] = initial_data['rev_hdr_distinct']\n",
    "obj_df['rev_intervals_ccnt'] = lb_make.fit_transform(initial_data['rev_intervals_ccnt'])\n",
    "obj_df['rev_pld_bin_128'] = initial_data['rev_pld_bin_128']\n",
    "obj_df['rev_pld_ccnt'] = lb_make.fit_transform(initial_data['rev_pld_ccnt'])\n",
    "obj_df['rev_pld_distinct'] = initial_data['rev_pld_distinct']\n",
    "obj_df['rev_pld_max'] = initial_data['rev_pld_max']\n",
    "obj_df['rev_pld_mean'] = initial_data['rev_pld_mean']\n",
    "obj_df['rev_pld_var'] = initial_data['rev_pld_var']\n",
    "obj_df['src_port'] = initial_data['src_port']\n",
    "obj_df['time_length'] = initial_data['time_length']"
   ]
  },
  {
   "cell_type": "code",
   "execution_count": 9,
   "metadata": {},
   "outputs": [],
   "source": [
    "new_data=obj_df"
   ]
  },
  {
   "cell_type": "code",
   "execution_count": 10,
   "metadata": {},
   "outputs": [],
   "source": [
    "sorted_df = new_data.sort_values(by=['id'], ascending=True)\n",
    "sorted_LB = LB.sort_values(by=['id'], ascending=True)"
   ]
  },
  {
   "cell_type": "code",
   "execution_count": 11,
   "metadata": {},
   "outputs": [],
   "source": [
    "X_data=sorted_df.drop('id',axis=1)\n",
    "Y_data=sorted_LB.iloc[:,-1:]"
   ]
  },
  {
   "cell_type": "code",
   "execution_count": 12,
   "metadata": {},
   "outputs": [],
   "source": [
    "X_train, X_test, Y_train, Y_test = train_test_split (X_data,Y_data,test_size=0.2, random_state=42)"
   ]
  },
  {
   "cell_type": "code",
   "execution_count": 13,
   "metadata": {},
   "outputs": [],
   "source": [
    "RfC = RandomForestClassifier(random_state=42)"
   ]
  },
  {
   "cell_type": "code",
   "execution_count": 14,
   "metadata": {},
   "outputs": [
    {
     "name": "stderr",
     "output_type": "stream",
     "text": [
      "C:\\Users\\DELL\\Anaconda3\\lib\\site-packages\\sklearn\\ensemble\\forest.py:245: FutureWarning: The default value of n_estimators will change from 10 in version 0.20 to 100 in 0.22.\n",
      "  \"10 in version 0.20 to 100 in 0.22.\", FutureWarning)\n",
      "C:\\Users\\DELL\\Anaconda3\\lib\\site-packages\\ipykernel_launcher.py:1: DataConversionWarning: A column-vector y was passed when a 1d array was expected. Please change the shape of y to (n_samples,), for example using ravel().\n",
      "  \"\"\"Entry point for launching an IPython kernel.\n"
     ]
    },
    {
     "data": {
      "text/plain": [
       "RandomForestClassifier(bootstrap=True, class_weight=None, criterion='gini',\n",
       "                       max_depth=None, max_features='auto', max_leaf_nodes=None,\n",
       "                       min_impurity_decrease=0.0, min_impurity_split=None,\n",
       "                       min_samples_leaf=1, min_samples_split=2,\n",
       "                       min_weight_fraction_leaf=0.0, n_estimators=10,\n",
       "                       n_jobs=None, oob_score=False, random_state=42, verbose=0,\n",
       "                       warm_start=False)"
      ]
     },
     "execution_count": 14,
     "metadata": {},
     "output_type": "execute_result"
    }
   ],
   "source": [
    "RfC.fit(X_train,Y_train)"
   ]
  },
  {
   "cell_type": "code",
   "execution_count": 15,
   "metadata": {},
   "outputs": [
    {
     "name": "stdout",
     "output_type": "stream",
     "text": [
      "0.9910455204932898\n"
     ]
    }
   ],
   "source": [
    "RFC_accuracy=accuracy_score(Y_test,RfC.predict(X_test))\n",
    "print (RFC_accuracy)"
   ]
  },
  {
   "cell_type": "code",
   "execution_count": 16,
   "metadata": {},
   "outputs": [
    {
     "name": "stdout",
     "output_type": "stream",
     "text": [
      "[[39401   257]\n",
      " [  533 48033]]\n"
     ]
    }
   ],
   "source": [
    "RFC_matrix=confusion_matrix(Y_test,RfC.predict(X_test))\n",
    "print (RFC_matrix)"
   ]
  },
  {
   "cell_type": "code",
   "execution_count": 18,
   "metadata": {},
   "outputs": [
    {
     "name": "stderr",
     "output_type": "stream",
     "text": [
      "C:\\Users\\DELL\\Anaconda3\\lib\\site-packages\\sklearn\\linear_model\\logistic.py:432: FutureWarning: Default solver will be changed to 'lbfgs' in 0.22. Specify a solver to silence this warning.\n",
      "  FutureWarning)\n",
      "C:\\Users\\DELL\\Anaconda3\\lib\\site-packages\\sklearn\\utils\\validation.py:724: DataConversionWarning: A column-vector y was passed when a 1d array was expected. Please change the shape of y to (n_samples, ), for example using ravel().\n",
      "  y = column_or_1d(y, warn=True)\n",
      "C:\\Users\\DELL\\Anaconda3\\lib\\site-packages\\sklearn\\linear_model\\logistic.py:469: FutureWarning: Default multi_class will be changed to 'auto' in 0.22. Specify the multi_class option to silence this warning.\n",
      "  \"this warning.\", FutureWarning)\n",
      "C:\\Users\\DELL\\Anaconda3\\lib\\site-packages\\sklearn\\svm\\base.py:929: ConvergenceWarning: Liblinear failed to converge, increase the number of iterations.\n",
      "  \"the number of iterations.\", ConvergenceWarning)\n"
     ]
    },
    {
     "data": {
      "text/plain": [
       "LogisticRegression(C=1.0, class_weight=None, dual=False, fit_intercept=True,\n",
       "                   intercept_scaling=1, l1_ratio=None, max_iter=100,\n",
       "                   multi_class='warn', n_jobs=None, penalty='l2',\n",
       "                   random_state=0, solver='warn', tol=0.0001, verbose=0,\n",
       "                   warm_start=False)"
      ]
     },
     "execution_count": 18,
     "metadata": {},
     "output_type": "execute_result"
    }
   ],
   "source": [
    "LRC = LogisticRegression(random_state = 0)\n",
    "LRC.fit(X_train,Y_train)"
   ]
  },
  {
   "cell_type": "code",
   "execution_count": 19,
   "metadata": {},
   "outputs": [
    {
     "name": "stdout",
     "output_type": "stream",
     "text": [
      "0.9676278563656148\n"
     ]
    }
   ],
   "source": [
    "LRC_accuracy=accuracy_score(Y_test,LRC.predict(X_test))\n",
    "print (LRC_accuracy)"
   ]
  },
  {
   "cell_type": "code",
   "execution_count": 23,
   "metadata": {},
   "outputs": [
    {
     "data": {
      "text/plain": [
       "DecisionTreeClassifier(class_weight=None, criterion='gini', max_depth=None,\n",
       "                       max_features=None, max_leaf_nodes=None,\n",
       "                       min_impurity_decrease=0.0, min_impurity_split=None,\n",
       "                       min_samples_leaf=1, min_samples_split=2,\n",
       "                       min_weight_fraction_leaf=0.0, presort=False,\n",
       "                       random_state=42, splitter='best')"
      ]
     },
     "execution_count": 23,
     "metadata": {},
     "output_type": "execute_result"
    }
   ],
   "source": [
    "DTC = DecisionTreeClassifier(random_state=42)\n",
    "DTC.fit(X_train,Y_train)"
   ]
  },
  {
   "cell_type": "code",
   "execution_count": 24,
   "metadata": {},
   "outputs": [
    {
     "name": "stdout",
     "output_type": "stream",
     "text": [
      "0.9881211461733769\n"
     ]
    }
   ],
   "source": [
    "DTC_accuracy=accuracy_score(Y_test,DTC.predict(X_test))\n",
    "print (DTC_accuracy)"
   ]
  },
  {
   "cell_type": "code",
   "execution_count": null,
   "metadata": {},
   "outputs": [],
   "source": []
  }
 ],
 "metadata": {
  "kernelspec": {
   "display_name": "Python 3",
   "language": "python",
   "name": "python3"
  },
  "language_info": {
   "codemirror_mode": {
    "name": "ipython",
    "version": 3
   },
   "file_extension": ".py",
   "mimetype": "text/x-python",
   "name": "python",
   "nbconvert_exporter": "python",
   "pygments_lexer": "ipython3",
   "version": "3.7.3"
  }
 },
 "nbformat": 4,
 "nbformat_minor": 2
}
